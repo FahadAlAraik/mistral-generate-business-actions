{
 "cells": [
  {
   "cell_type": "code",
   "execution_count": 1,
   "metadata": {},
   "outputs": [
    {
     "name": "stderr",
     "output_type": "stream",
     "text": [
      "c:\\Users\\DESKTOP-1\\Desktop\\GenAI-Projects\\genai-venv\\lib\\site-packages\\tqdm\\auto.py:21: TqdmWarning: IProgress not found. Please update jupyter and ipywidgets. See https://ipywidgets.readthedocs.io/en/stable/user_install.html\n",
      "  from .autonotebook import tqdm as notebook_tqdm\n"
     ]
    }
   ],
   "source": [
    "import pandas as pd\n",
    "from faker import Faker\n",
    "import random\n",
    "from transformers import AutoModelForCausalLM, AutoTokenizer, pipeline"
   ]
  },
  {
   "cell_type": "code",
   "execution_count": 71,
   "metadata": {},
   "outputs": [
    {
     "data": {
      "text/html": [
       "<div>\n",
       "<style scoped>\n",
       "    .dataframe tbody tr th:only-of-type {\n",
       "        vertical-align: middle;\n",
       "    }\n",
       "\n",
       "    .dataframe tbody tr th {\n",
       "        vertical-align: top;\n",
       "    }\n",
       "\n",
       "    .dataframe thead th {\n",
       "        text-align: right;\n",
       "    }\n",
       "</style>\n",
       "<table border=\"1\" class=\"dataframe\">\n",
       "  <thead>\n",
       "    <tr style=\"text-align: right;\">\n",
       "      <th></th>\n",
       "      <th>gender</th>\n",
       "      <th>transaction_date</th>\n",
       "      <th>amount</th>\n",
       "      <th>item_name</th>\n",
       "      <th>amount_purchased</th>\n",
       "      <th>acc_balance</th>\n",
       "      <th>item_price</th>\n",
       "      <th>profit</th>\n",
       "      <th>transaction_hour</th>\n",
       "    </tr>\n",
       "  </thead>\n",
       "  <tbody>\n",
       "    <tr>\n",
       "      <th>0</th>\n",
       "      <td>male</td>\n",
       "      <td>2024-02-27 14:18:24</td>\n",
       "      <td>5467</td>\n",
       "      <td>cheese</td>\n",
       "      <td>5</td>\n",
       "      <td>38936</td>\n",
       "      <td>4</td>\n",
       "      <td>20</td>\n",
       "      <td>14</td>\n",
       "    </tr>\n",
       "    <tr>\n",
       "      <th>1</th>\n",
       "      <td>male</td>\n",
       "      <td>2024-04-19 06:32:04</td>\n",
       "      <td>8723</td>\n",
       "      <td>rice</td>\n",
       "      <td>10</td>\n",
       "      <td>26871</td>\n",
       "      <td>3</td>\n",
       "      <td>30</td>\n",
       "      <td>6</td>\n",
       "    </tr>\n",
       "    <tr>\n",
       "      <th>2</th>\n",
       "      <td>female</td>\n",
       "      <td>2024-02-14 15:08:51</td>\n",
       "      <td>8575</td>\n",
       "      <td>apple</td>\n",
       "      <td>7</td>\n",
       "      <td>70229</td>\n",
       "      <td>1</td>\n",
       "      <td>7</td>\n",
       "      <td>15</td>\n",
       "    </tr>\n",
       "    <tr>\n",
       "      <th>3</th>\n",
       "      <td>female</td>\n",
       "      <td>2024-03-02 17:49:04</td>\n",
       "      <td>1279</td>\n",
       "      <td>tea</td>\n",
       "      <td>7</td>\n",
       "      <td>67129</td>\n",
       "      <td>4</td>\n",
       "      <td>28</td>\n",
       "      <td>17</td>\n",
       "    </tr>\n",
       "    <tr>\n",
       "      <th>4</th>\n",
       "      <td>female</td>\n",
       "      <td>2024-04-10 21:34:34</td>\n",
       "      <td>4719</td>\n",
       "      <td>carrot</td>\n",
       "      <td>9</td>\n",
       "      <td>70394</td>\n",
       "      <td>1</td>\n",
       "      <td>9</td>\n",
       "      <td>21</td>\n",
       "    </tr>\n",
       "    <tr>\n",
       "      <th>...</th>\n",
       "      <td>...</td>\n",
       "      <td>...</td>\n",
       "      <td>...</td>\n",
       "      <td>...</td>\n",
       "      <td>...</td>\n",
       "      <td>...</td>\n",
       "      <td>...</td>\n",
       "      <td>...</td>\n",
       "      <td>...</td>\n",
       "    </tr>\n",
       "    <tr>\n",
       "      <th>39995</th>\n",
       "      <td>male</td>\n",
       "      <td>2024-01-20 17:42:00</td>\n",
       "      <td>7472</td>\n",
       "      <td>eggs</td>\n",
       "      <td>2</td>\n",
       "      <td>25838</td>\n",
       "      <td>2</td>\n",
       "      <td>4</td>\n",
       "      <td>17</td>\n",
       "    </tr>\n",
       "    <tr>\n",
       "      <th>39996</th>\n",
       "      <td>female</td>\n",
       "      <td>2024-04-24 15:45:12</td>\n",
       "      <td>150</td>\n",
       "      <td>pizza</td>\n",
       "      <td>2</td>\n",
       "      <td>89378</td>\n",
       "      <td>7</td>\n",
       "      <td>14</td>\n",
       "      <td>15</td>\n",
       "    </tr>\n",
       "    <tr>\n",
       "      <th>39997</th>\n",
       "      <td>female</td>\n",
       "      <td>2024-02-22 00:00:22</td>\n",
       "      <td>7324</td>\n",
       "      <td>pasta</td>\n",
       "      <td>7</td>\n",
       "      <td>61685</td>\n",
       "      <td>4</td>\n",
       "      <td>28</td>\n",
       "      <td>0</td>\n",
       "    </tr>\n",
       "    <tr>\n",
       "      <th>39998</th>\n",
       "      <td>male</td>\n",
       "      <td>2024-01-03 03:44:09</td>\n",
       "      <td>5894</td>\n",
       "      <td>coffee</td>\n",
       "      <td>9</td>\n",
       "      <td>16588</td>\n",
       "      <td>8</td>\n",
       "      <td>72</td>\n",
       "      <td>3</td>\n",
       "    </tr>\n",
       "    <tr>\n",
       "      <th>39999</th>\n",
       "      <td>female</td>\n",
       "      <td>2024-04-25 15:46:49</td>\n",
       "      <td>1956</td>\n",
       "      <td>carrot</td>\n",
       "      <td>7</td>\n",
       "      <td>8735</td>\n",
       "      <td>1</td>\n",
       "      <td>7</td>\n",
       "      <td>15</td>\n",
       "    </tr>\n",
       "  </tbody>\n",
       "</table>\n",
       "<p>40000 rows × 9 columns</p>\n",
       "</div>"
      ],
      "text/plain": [
       "       gender    transaction_date  amount item_name  amount_purchased  \\\n",
       "0        male 2024-02-27 14:18:24    5467    cheese                 5   \n",
       "1        male 2024-04-19 06:32:04    8723      rice                10   \n",
       "2      female 2024-02-14 15:08:51    8575     apple                 7   \n",
       "3      female 2024-03-02 17:49:04    1279       tea                 7   \n",
       "4      female 2024-04-10 21:34:34    4719    carrot                 9   \n",
       "...       ...                 ...     ...       ...               ...   \n",
       "39995    male 2024-01-20 17:42:00    7472      eggs                 2   \n",
       "39996  female 2024-04-24 15:45:12     150     pizza                 2   \n",
       "39997  female 2024-02-22 00:00:22    7324     pasta                 7   \n",
       "39998    male 2024-01-03 03:44:09    5894    coffee                 9   \n",
       "39999  female 2024-04-25 15:46:49    1956    carrot                 7   \n",
       "\n",
       "       acc_balance  item_price  profit  transaction_hour  \n",
       "0            38936           4      20                14  \n",
       "1            26871           3      30                 6  \n",
       "2            70229           1       7                15  \n",
       "3            67129           4      28                17  \n",
       "4            70394           1       9                21  \n",
       "...            ...         ...     ...               ...  \n",
       "39995        25838           2       4                17  \n",
       "39996        89378           7      14                15  \n",
       "39997        61685           4      28                 0  \n",
       "39998        16588           8      72                 3  \n",
       "39999         8735           1       7                15  \n",
       "\n",
       "[40000 rows x 9 columns]"
      ]
     },
     "execution_count": 71,
     "metadata": {},
     "output_type": "execute_result"
    }
   ],
   "source": [
    "# Initialize Faker\n",
    "fake = Faker()\n",
    "\n",
    "# List of 20 items with their prices\n",
    "items = {\n",
    "    'milk': 5,\n",
    "    'bread': 3,\n",
    "    'eggs': 2,\n",
    "    'cheese': 4,\n",
    "    'chocolate': 6,\n",
    "    'coffee': 8,\n",
    "    'tea': 4,\n",
    "    'apple': 1,\n",
    "    'banana': 2,\n",
    "    'orange': 2,\n",
    "    'tomato': 1,\n",
    "    'potato': 1,\n",
    "    'carrot': 1,\n",
    "    'chicken': 10,\n",
    "    'beef': 12,\n",
    "    'fish': 9,\n",
    "    'rice': 3,\n",
    "    'pasta': 4,\n",
    "    'pizza': 7,\n",
    "    'burger': 6\n",
    "}\n",
    "\n",
    "# Define the number of samples\n",
    "number_of_samples = 40000  # Change this value as needed\n",
    "\n",
    "# Generate fake data\n",
    "data = {\n",
    "    'gender': [random.choice(['female', 'male']) for _ in range(number_of_samples)],\n",
    "    'transaction_date': [fake.date_time_this_year() for _ in range(number_of_samples)],  # Using date_time_this_year to include time\n",
    "    'amount': [fake.random_number(digits=4) for _ in range(number_of_samples)],\n",
    "    'item_name': [random.choice(list(items.keys())) for _ in range(number_of_samples)],\n",
    "    'amount_purchased': [random.randint(1, 10) for _ in range(number_of_samples)],\n",
    "    'acc_balance': [fake.random_number(digits=5) for _ in range(number_of_samples)]\n",
    "}\n",
    "\n",
    "# Calculate item price, profit, and extract hour\n",
    "data['item_price'] = [items[item] for item in data['item_name']]\n",
    "data['profit'] = [price * amount for price, amount in zip(data['item_price'], data['amount_purchased'])]\n",
    "data['transaction_hour'] = [date.hour for date in data['transaction_date']]\n",
    "\n",
    "# Create DataFrame\n",
    "df = pd.DataFrame(data)\n",
    "\n",
    "df"
   ]
  },
  {
   "cell_type": "markdown",
   "metadata": {},
   "source": [
    "## Using LLM to Generate Insights"
   ]
  },
  {
   "cell_type": "code",
   "execution_count": 11,
   "metadata": {},
   "outputs": [
    {
     "name": "stderr",
     "output_type": "stream",
     "text": [
      "c:\\Users\\DESKTOP-1\\Desktop\\GenAI-Projects\\genai-venv\\lib\\site-packages\\transformers\\modeling_utils.py:4225: FutureWarning: `_is_quantized_training_enabled` is going to be deprecated in transformers 4.39.0. Please use `model.hf_quantizer.is_trainable` instead\n",
      "  warnings.warn(\n"
     ]
    }
   ],
   "source": [
    "from transformers import AutoModelForCausalLM, AutoTokenizer, pipeline\n",
    "model_name_or_path = \"TheBloke/Mistral-7B-Instruct-v0.2-GPTQ\"\n",
    "model = AutoModelForCausalLM.from_pretrained(model_name_or_path,\n",
    "                                             device_map=\"auto\",\n",
    "                                              trust_remote_code=True,\n",
    "                                              revision=\"main\",)\n",
    "tokenizer = AutoTokenizer.from_pretrained(model_name_or_path, use_fast=True)"
   ]
  },
  {
   "cell_type": "code",
   "execution_count": 65,
   "metadata": {},
   "outputs": [],
   "source": [
    "def return_prompt(data,meta_data=''):\n",
    "\n",
    "    return f\"\"\"<<SYS>>You are an assistant for a large supermarket<<</SYS>>>\n",
    "[INST]from the provided report of {meta_data}:\n",
    "{data}\n",
    "\n",
    "Provide one action to take to increase revenue based on the above report[/INST]\n",
    "Answer:\\n\"\"\"\n",
    "\n",
    "def generate_insight(data,meta_data=''):\n",
    "    \n",
    "    pipe = pipeline(\n",
    "    \"text-generation\",\n",
    "     model=model,\n",
    "     tokenizer=tokenizer,\n",
    "     max_new_tokens=2056,\n",
    "     do_sample=True,\n",
    "     temperature=0.25,\n",
    "     top_k=50,\n",
    "     repetition_penalty=1.5\n",
    "    )\n",
    "    generated_text = pipe(return_prompt(data,meta_data))[0]['generated_text']\n",
    "    result_index = generated_text.find(\"Answer:\") + len(\"Answer:\")\n",
    "    return generated_text[result_index:].strip()"
   ]
  },
  {
   "cell_type": "code",
   "execution_count": 24,
   "metadata": {},
   "outputs": [
    {
     "name": "stdout",
     "output_type": "stream",
     "text": [
      "<<SYS>>You are an assistant for a large supermarket<<</SYS>>>\n",
      "[INST]from the provided report:\n",
      "test\n",
      "\n",
      "Provide one action to take to increase revenue based on the above report[/INST]\n",
      "Answer:\n",
      "\n"
     ]
    }
   ],
   "source": [
    "print(return_prompt('test'))"
   ]
  },
  {
   "cell_type": "code",
   "execution_count": 44,
   "metadata": {},
   "outputs": [
    {
     "name": "stdout",
     "output_type": "stream",
     "text": [
      "    gender  item_name  profit\n",
      "22    male       beef   65028\n",
      "2   female       beef   60972\n",
      "7   female    chicken   55950\n",
      "27    male    chicken   55190\n",
      "11  female       fish   48294\n",
      "31    male       fish   46737\n",
      "29    male     coffee   43568\n",
      "9   female     coffee   42040\n",
      "35    male      pizza   39725\n",
      "15  female      pizza   39396\n",
      "8   female  chocolate   34764\n",
      "24    male     burger   34374\n",
      "4   female     burger   32778\n",
      "28    male  chocolate   32340\n",
      "32    male       milk   29060\n",
      "12  female       milk   27685\n",
      "18  female        tea   23660\n",
      "38    male        tea   22844\n",
      "6   female     cheese   22352\n",
      "34    male      pasta   22268\n",
      "26    male     cheese   21884\n",
      "14  female      pasta   21628\n",
      "3   female      bread   16551\n",
      "17  female       rice   16533\n",
      "23    male      bread   16443\n",
      "37    male       rice   15984\n",
      "21    male     banana   11650\n",
      "1   female     banana   11302\n",
      "10  female       eggs   11032\n",
      "33    male     orange   10900\n",
      "30    male       eggs   10732\n",
      "13  female     orange   10614\n",
      "19  female     tomato    5642\n",
      "0   female      apple    5588\n",
      "39    male     tomato    5555\n",
      "20    male      apple    5548\n",
      "36    male     potato    5488\n",
      "5   female     carrot    5445\n",
      "16  female     potato    5321\n",
      "25    male     carrot    5173\n"
     ]
    }
   ],
   "source": [
    "# Aggregate total amount spent on each item by gender\n",
    "total_amount_by_item_gender = df.groupby(['gender', 'item_name'])['profit'].sum().reset_index().sort_values(by='profit',ascending=False)\n",
    "result = total_amount_by_item_gender.to_string()\n",
    "print(result)"
   ]
  },
  {
   "cell_type": "code",
   "execution_count": 45,
   "metadata": {},
   "outputs": [
    {
     "name": "stderr",
     "output_type": "stream",
     "text": [
      "Setting `pad_token_id` to `eos_token_id`:2 for open-end generation.\n"
     ]
    },
    {
     "data": {
      "text/plain": [
       "'Based on the given data, we can observe that \"beef\" and \"chicken\" items have higher profits compared to other food categories. Therefore, increasing sales of these two specific meat products could potentially lead to increased revenues in thissuper market. One possibleactioncould be running targeted promotions or advertisements focusingonthesemeatitemstoencouragecustomers\\'purchasesandboostrevenuethroughincreasedsalesvolumeofhigher-profitproducts.'"
      ]
     },
     "execution_count": 45,
     "metadata": {},
     "output_type": "execute_result"
    }
   ],
   "source": [
    "generate_insight(result)"
   ]
  },
  {
   "cell_type": "markdown",
   "metadata": {},
   "source": [
    "### Generated Insight:\n",
    "\n",
    "Based on the given data, we can observe that \"beef\" and \"chicken\" items have higher profits compared to other food categories. Therefore, increasing sales of these two specific meat products could potentially lead to increased revenues. One possible way to do this is by promoting special deals or discounts specifically for those items during certain periods (e.g., weekends) or creating targeted marketing campaigns towards customers who frequently purchase them."
   ]
  },
  {
   "cell_type": "code",
   "execution_count": 46,
   "metadata": {},
   "outputs": [
    {
     "name": "stdout",
     "output_type": "stream",
     "text": [
      "    gender  item_name  amount_purchased\n",
      "18  female        tea              5915\n",
      "21    male     banana              5825\n",
      "32    male       milk              5812\n",
      "8   female  chocolate              5794\n",
      "24    male     burger              5729\n",
      "35    male      pizza              5675\n",
      "19  female     tomato              5642\n",
      "7   female    chicken              5595\n",
      "0   female      apple              5588\n",
      "6   female     cheese              5588\n",
      "34    male      pasta              5567\n",
      "3   female      bread              5517\n",
      "10  female       eggs              5516\n",
      "17  female       rice              5511\n",
      "36    male     potato              5488\n",
      "33    male     orange              5450\n",
      "29    male     coffee              5446\n",
      "5   female     carrot              5445\n",
      "22    male       beef              5419\n",
      "11  female       fish              5366\n"
     ]
    }
   ],
   "source": [
    "# Find the gender that purchased the most of each item\n",
    "max_purchase_by_item_gender = df.groupby(['gender', 'item_name'])['amount_purchased'].sum().reset_index()\n",
    "max_purchase_by_item_gender = max_purchase_by_item_gender.sort_values(by='amount_purchased', ascending=False).groupby('item_name').head(1)\n",
    "result = max_purchase_by_item_gender.to_string()\n",
    "print(max_purchase_by_item_gender)"
   ]
  },
  {
   "cell_type": "code",
   "execution_count": 48,
   "metadata": {},
   "outputs": [
    {
     "name": "stderr",
     "output_type": "stream",
     "text": [
      "Setting `pad_token_id` to `eos_token_id`:2 for open-end generation.\n"
     ]
    },
    {
     "data": {
      "text/plain": [
       "'Based on the given data, we can identify that customers purchased various items with different quantities. One potential strategy to Increase Revenue could be focusing on increasing sales of high-value or frequently demanded products such as \"milk,\" \"bananas,\" and \"chicken.\" This might involve promoting these items through targeted marketing campaigns, offering discounts or bundles, improving their placement in stores, etc. However, it\\'s important to note this is just one possible approach; further analysis considering factors like customer demographics, seasonality, inventory levels would provide more accurate insights before making any decisions.'"
      ]
     },
     "execution_count": 48,
     "metadata": {},
     "output_type": "execute_result"
    }
   ],
   "source": [
    "generate_insight(result)"
   ]
  },
  {
   "cell_type": "markdown",
   "metadata": {},
   "source": [
    "### Generated Insight:\n",
    "\n",
    "Based on the given data, we can identify that customers purchased various items with different quantities. One potential strategy to Increase Revenue could be focusing on increasing sales of high-value or frequently demanded products such as \"milk,\" \"bananas,\" and \"chicken.\" This might involve promoting these items through targeted marketing campaigns, offering discounts or bundles, improving their placement in stores, etc. However, it\\'s important to note this is just one possible approach; further analysis considering factors like customer demographics, seasonality, inventory levels would provide more accurate insights before making any decisions."
   ]
  },
  {
   "cell_type": "code",
   "execution_count": 54,
   "metadata": {},
   "outputs": [
    {
     "name": "stdout",
     "output_type": "stream",
     "text": [
      "   gender  amount_purchased\n",
      "0  female          5.502223\n",
      "1    male          5.511434\n"
     ]
    }
   ],
   "source": [
    "# Calculate the average purchase amount by gender\n",
    "average_purchase_by_gender = df.groupby('gender')['amount_purchased'].mean().reset_index()\n",
    "result = average_purchase_by_gender.to_string()\n",
    "print(average_purchase_by_gender)\n"
   ]
  },
  {
   "cell_type": "code",
   "execution_count": 55,
   "metadata": {},
   "outputs": [
    {
     "name": "stderr",
     "output_type": "stream",
     "text": [
      "Setting `pad_token_id` to `eos_token_id`:2 for open-end generation.\n"
     ]
    },
    {
     "data": {
      "text/plain": [
       "'Based on the given data, it appears that there is only a slight difference in the average purchasing amounts between males and females at this specific store or chain. To potentially increase overall revenue without favoring either group specifically, consider implementing strategies such as upselling, cross- selling, promotions, discounts, loyalty programs, or improving customer experience across all genders equally. These tactics can encourage larger purchases from both groups while maintaining fairness towards customers regardless of their gender.'"
      ]
     },
     "execution_count": 55,
     "metadata": {},
     "output_type": "execute_result"
    }
   ],
   "source": [
    "generate_insight(result,'average purchase amount by gender')"
   ]
  },
  {
   "cell_type": "markdown",
   "metadata": {},
   "source": [
    "### Generated Insight:\n",
    "\n",
    "Based on the given data, it appears that there is only a slight difference in the average purchasing amounts between males and females at this specific store or chain. To potentially increase overall revenue without favoring either group specifically, consider implementing strategies such as upselling, cross- selling, promotions, discounts, loyalty programs, or improving customer experience across all genders equally. These tactics can encourage larger purchases from both groups while maintaining fairness towards customers regardless of their gender."
   ]
  },
  {
   "cell_type": "code",
   "execution_count": 61,
   "metadata": {},
   "outputs": [
    {
     "name": "stdout",
     "output_type": "stream",
     "text": [
      "   gender  profit\n",
      "1    male  500491\n",
      "0  female  497547\n"
     ]
    }
   ],
   "source": [
    "# Calculate the total amount spent by each gender overall\n",
    "total_amount_by_gender = df.groupby('gender')['profit'].sum().reset_index().sort_values(by='profit',ascending=False)\n",
    "result = total_amount_by_gender.to_string()\n",
    "print(total_amount_by_gender)\n"
   ]
  },
  {
   "cell_type": "code",
   "execution_count": 67,
   "metadata": {},
   "outputs": [
    {
     "name": "stderr",
     "output_type": "stream",
     "text": [
      "Setting `pad_token_id` to `eos_token_id`:2 for open-end generation.\n"
     ]
    },
    {
     "name": "stdout",
     "output_type": "stream",
     "text": [
      "Based on the given data, there is only a small difference in profits between males and females. One potential strategy could be targeting marketing efforts towards increasing sales among Female customers by offering promotions or discounts specifically tailored to their preferences. This approach may help attract more women shoppers and potentially lead to increased overall revenues without significantly impacting men's spending habits. However, it would also require further research into understanding what drives purchasing decisions differently between genders within your customer base before implementing any targeted campaigns effectively.\n"
     ]
    }
   ],
   "source": [
    "print(generate_insight(result))"
   ]
  },
  {
   "cell_type": "markdown",
   "metadata": {},
   "source": [
    "### Generated Insight\n",
    "\n",
    "Based on the given data, there is only a small difference in profits between males and females. One potential strategy could be targeting marketing efforts towards increasing sales among Female customers by offering promotions or discounts specifically tailored to their preferences. This approach may help attract more women shoppers and potentially lead to increased overall revenues without significantly impacting men's spending habits. However, it would also require further research into understanding what drives purchasing decisions differently between genders within your customer base before implementing any targeted campaigns effectively"
   ]
  },
  {
   "cell_type": "markdown",
   "metadata": {},
   "source": [
    "## Getting Insights with timelines"
   ]
  },
  {
   "cell_type": "code",
   "execution_count": 76,
   "metadata": {},
   "outputs": [
    {
     "name": "stdout",
     "output_type": "stream",
     "text": [
      "   transaction_hour  gender\n",
      "9                 9    1789\n"
     ]
    }
   ],
   "source": [
    "# Convert 'transaction_date' to datetime format if it's not already\n",
    "df['transaction_date'] = pd.to_datetime(df['transaction_date'])\n",
    "\n",
    "# Extract the hour from the transaction_date\n",
    "df['transaction_hour'] = df['transaction_date'].dt.hour\n",
    "\n",
    "# Count the number of transactions per hour\n",
    "transactions_per_hour = df.groupby('transaction_hour')['gender'].count().reset_index()\n",
    "max_buyers_hour = transactions_per_hour[transactions_per_hour['gender'] == transactions_per_hour['gender'].max()]\n",
    "result = max_buyers_hour.to_string()\n",
    "print(max_buyers_hour)\n"
   ]
  },
  {
   "cell_type": "code",
   "execution_count": 77,
   "metadata": {},
   "outputs": [
    {
     "name": "stderr",
     "output_type": "stream",
     "text": [
      "Setting `pad_token_id` to `eos_token_id`:2 for open-end generation.\n"
     ]
    },
    {
     "data": {
      "text/plain": [
       "'Based on the given data, it appears that there is high demand and potentially significant sales during the ninth hour. To capitalize on this trend and possibly boost revenues further, consider implementing promotions or discounts specifically during that time frame. This could attract more customers and encourage larger purchases from existing ones in addition to those already making transactions at that hour. Additionally, ensuring adequate staffing and inventory availability can help optimally serve these shoppers and maintain positive customer experiences.'"
      ]
     },
     "execution_count": 77,
     "metadata": {},
     "output_type": "execute_result"
    }
   ],
   "source": [
    "generate_insight(result,'most hour of the day we got sales')"
   ]
  },
  {
   "cell_type": "markdown",
   "metadata": {},
   "source": [
    "### Generated Insight\n",
    "\n",
    "Based on the given data, it appears that there is high demand and potentially significant sales during the ninth hour. To capitalize on this trend and possibly boost revenues further, consider implementing promotions or discounts specifically during that time frame. This could attract more customers and encourage larger purchases from existing ones in addition to those already making transactions at that hour. Additionally, ensuring adequate staffing and inventory availability can help optimally serve these shoppers and maintain positive customer experiences."
   ]
  },
  {
   "cell_type": "code",
   "execution_count": 79,
   "metadata": {},
   "outputs": [
    {
     "name": "stdout",
     "output_type": "stream",
     "text": [
      "   transaction_hour  profit\n",
      "6                 6   45845\n"
     ]
    }
   ],
   "source": [
    "# Calculate the total amount spent per hour\n",
    "total_amount_per_hour = df.groupby('transaction_hour')['profit'].sum().reset_index()\n",
    "max_total_amount_hour = total_amount_per_hour[total_amount_per_hour['profit'] == total_amount_per_hour['profit'].max()]\n",
    "print(max_total_amount_hour)\n"
   ]
  },
  {
   "cell_type": "code",
   "execution_count": 80,
   "metadata": {},
   "outputs": [
    {
     "name": "stderr",
     "output_type": "stream",
     "text": [
      "Setting `pad_token_id` to `eos_token_id`:2 for open-end generation.\n"
     ]
    },
    {
     "data": {
      "text/plain": [
       "'Based on the given data, it appears that there is significant sales volume and profits during hour 6. To capitalize on this trend, consider increasing inventory levels or promoting popular items specifically during that time frame in order to maximize revenues. This could be achieved through various methods such as staffing more cashiers, offering promotions, or adjusting pricing strategies accordingly.'"
      ]
     },
     "execution_count": 80,
     "metadata": {},
     "output_type": "execute_result"
    }
   ],
   "source": [
    "generate_insight(max_total_amount_hour.to_string())"
   ]
  },
  {
   "cell_type": "markdown",
   "metadata": {},
   "source": [
    "### Generated Insight\n",
    "\n",
    "Based on the given data, it appears that there is significant sales volume and profits during hour 6. To capitalize on this trend, consider increasing inventory levels or promoting popular items specifically during that time frame in order to maximize revenues. This could be achieved through various methods such as staffing more cashiers, offering promotions, or adjusting pricing strategies accordingly."
   ]
  },
  {
   "cell_type": "code",
   "execution_count": 81,
   "metadata": {},
   "outputs": [
    {
     "name": "stdout",
     "output_type": "stream",
     "text": [
      "transaction_hour   0    1    2    3    4    5    6    7    8    9   ...   14  \\\n",
      "gender                                                              ...        \n",
      "female            820  817  860  839  816  861  870  833  775  897  ...  840   \n",
      "male              800  838  822  868  869  836  874  869  851  892  ...  823   \n",
      "\n",
      "transaction_hour   15   16   17   18   19   20   21   22   23  \n",
      "gender                                                         \n",
      "female            796  872  796  823  803  830  839  824  827  \n",
      "male              886  788  797  847  819  820  793  845  779  \n",
      "\n",
      "[2 rows x 24 columns]\n"
     ]
    }
   ],
   "source": [
    "# Calculate the number of transactions per hour by gender\n",
    "transactions_per_hour_gender = df.groupby(['gender', 'transaction_hour'])['gender'].count().unstack(fill_value=0)\n",
    "print(transactions_per_hour_gender)\n"
   ]
  },
  {
   "cell_type": "code",
   "execution_count": 82,
   "metadata": {},
   "outputs": [
    {
     "name": "stderr",
     "output_type": "stream",
     "text": [
      "Setting `pad_token_id` to `eos_token_id`:2 for open-end generation.\n"
     ]
    },
    {
     "data": {
      "text/plain": [
       "'Based on the given data, it appears that there is a higher number of female customers shopping during hours 13-15 (lunchtime) and males tend to shop more in hour 18. To Increase overall revenues, consider targeting marketing efforts towards increasing male customer traffic between hours 16-19 when they seem less likely to be present according to this dataset. This could include special promotions or discounts specifically targeted at men during these times. Additionally, considering extending business hours slightly past midnight if sales trends indicate significant potential demand from late night shoppers across both genders.'"
      ]
     },
     "execution_count": 82,
     "metadata": {},
     "output_type": "execute_result"
    }
   ],
   "source": [
    "generate_insight(transactions_per_hour_gender.to_string())"
   ]
  },
  {
   "cell_type": "markdown",
   "metadata": {},
   "source": [
    "### Generated Insight\n",
    "\n",
    "Based on the given data, it appears that there is a higher number of female customers shopping during hours 13-15 (lunchtime) and males tend to shop more in hour 18. To Increase overall revenues, consider targeting marketing efforts towards increasing male customer traffic between hours 16-19 when they seem less likely to be present according to this dataset. This could include special promotions or discounts specifically targeted at men during these times. Additionally, considering extending business hours slightly past midnight if sales trends indicate significant potential demand from late night shoppers across both genders."
   ]
  },
  {
   "cell_type": "markdown",
   "metadata": {},
   "source": [
    "#### Looking for questions in days instead of hours"
   ]
  },
  {
   "cell_type": "code",
   "execution_count": 109,
   "metadata": {},
   "outputs": [],
   "source": [
    "# Define a mapping dictionary for day of the week\n",
    "day_mapping = {\n",
    "    0: 'Monday',\n",
    "    1: 'Tuesday',\n",
    "    2: 'Wednesday',\n",
    "    3: 'Thursday',\n",
    "    4: 'Friday',\n",
    "    5: 'Saturday',\n",
    "    6: 'Sunday'\n",
    "}"
   ]
  },
  {
   "cell_type": "code",
   "execution_count": 112,
   "metadata": {},
   "outputs": [
    {
     "name": "stdout",
     "output_type": "stream",
     "text": [
      "  transaction_day_of_week  profit\n",
      "2                Saturday  146148\n"
     ]
    }
   ],
   "source": [
    "# Extract the day of the week from the transaction_date and map it to text\n",
    "df['transaction_day_of_week'] = df['transaction_date'].dt.dayofweek.map(day_mapping)\n",
    "\n",
    "# Calculate total profit per day of the week\n",
    "total_profit_per_day = df.groupby('transaction_day_of_week')['profit'].sum().reset_index()\n",
    "max_profit_day = total_profit_per_day[total_profit_per_day['profit'] == total_profit_per_day['profit'].max()]\n",
    "print(max_profit_day)"
   ]
  },
  {
   "cell_type": "code",
   "execution_count": 85,
   "metadata": {},
   "outputs": [
    {
     "name": "stderr",
     "output_type": "stream",
     "text": [
      "Setting `pad_token_id` to `eos_token_id`:2 for open-end generation.\n"
     ]
    },
    {
     "data": {
      "text/plain": [
       "'Based on the given data, it appears that there is significant sales volume and profits being generated on Thursdays. One potential strategy could be focusing marketing efforts or promotions specifically towards this day of the week in order to attract even more customers and potentially boost overall revenues further. This might include targeted advertising campaigns, special discounts or deals exclusive to Thursday shoppers, or other initiatives aimed at increasing foot traffic during this time period. However, additional analysis may also be necessary to ensure such strategies would indeed lead to increased net income rather than just higher expenses due to added promotion costs.'"
      ]
     },
     "execution_count": 85,
     "metadata": {},
     "output_type": "execute_result"
    }
   ],
   "source": [
    "generate_insight(max_profit_day.to_string())"
   ]
  },
  {
   "cell_type": "markdown",
   "metadata": {},
   "source": [
    "### Generated Insight\n",
    "\n",
    "Based on the given data, it appears that there is significant sales volume and profits being generated on Thursdays. One potential strategy could be focusing marketing efforts or promotions specifically towards this day of the week in order to attract even more customers and potentially boost overall revenues further. This might include targeted advertising campaigns, special discounts or deals exclusive to Thursday shoppers, or other initiatives aimed at increasing foot traffic during this time period. However, additional analysis may also be necessary to ensure such strategies would indeed lead to increased net income rather than just higher expenses due to added promotion costs."
   ]
  },
  {
   "cell_type": "code",
   "execution_count": 115,
   "metadata": {},
   "outputs": [
    {
     "name": "stdout",
     "output_type": "stream",
     "text": [
      "                         profit\n",
      "transaction_day_of_week        \n",
      "Saturday                 146148\n",
      "Monday                   145011\n",
      "Thursday                 143471\n",
      "Tuesday                  143176\n",
      "Wednesday                141909\n",
      "Sunday                   140253\n",
      "Friday                   139913\n"
     ]
    }
   ],
   "source": [
    "# Calculate total profit per day of the week\n",
    "total_profit_per_day = df.groupby('transaction_day_of_week')['profit'].sum().reset_index().sort_values(by='profit',ascending=False)\n",
    "# Set the day of the week as the index\n",
    "total_profit_per_day.set_index('transaction_day_of_week', inplace=True)\n",
    "print(total_profit_per_day)"
   ]
  },
  {
   "cell_type": "code",
   "execution_count": 116,
   "metadata": {},
   "outputs": [
    {
     "name": "stderr",
     "output_type": "stream",
     "text": [
      "Setting `pad_token_id` to `eos_token_id`:2 for open-end generation.\n"
     ]
    },
    {
     "data": {
      "text/plain": [
       "'Based on the given data, it appears that Saturday has the highest sales volume among all days. To potentially Increase overall revenues, consider implementing promotional strategies or special offers specifically targeting customers during weekdays when sale volumes seem lower compared to Saturdays (i.e., Monday through Friday). This could include discounts, loyalty programs, bundled deals etc.. The goal is to encourage more transactions and larger basket sizes throughout the entire week rather than just relying heavily upon weekend business.'"
      ]
     },
     "execution_count": 116,
     "metadata": {},
     "output_type": "execute_result"
    },
    {
     "ename": "",
     "evalue": "",
     "output_type": "error",
     "traceback": [
      "\u001b[1;31mThe Kernel crashed while executing code in the current cell or a previous cell. \n",
      "\u001b[1;31mPlease review the code in the cell(s) to identify a possible cause of the failure. \n",
      "\u001b[1;31mClick <a href='https://aka.ms/vscodeJupyterKernelCrash'>here</a> for more info. \n",
      "\u001b[1;31mView Jupyter <a href='command:jupyter.viewOutput'>log</a> for further details."
     ]
    }
   ],
   "source": [
    "generate_insight(total_profit_per_day.to_string())"
   ]
  },
  {
   "cell_type": "markdown",
   "metadata": {},
   "source": [
    "### Generated Insight\n",
    "\n",
    "Based on the given data, it appears that Saturday has the highest sales volume among all days. To potentially Increase overall revenues, consider implementing promotional strategies or special offers specifically targeting customers during weekdays when sale volumes seem lower compared to Saturdays (i.e., Monday through Friday). This could include discounts, loyalty programs, bundled deals etc.. The goal is to encourage more transactions and larger basket sizes throughout the entire week rather than just relying heavily upon weekend business."
   ]
  },
  {
   "cell_type": "code",
   "execution_count": 89,
   "metadata": {},
   "outputs": [
    {
     "name": "stdout",
     "output_type": "stream",
     "text": [
      "   transaction_day_of_week  average_profit\n",
      "0                        0       25.298500\n",
      "1                        1       25.092184\n",
      "2                        2       24.804929\n",
      "3                        3       24.813386\n",
      "4                        4       24.780907\n",
      "5                        5       25.337725\n",
      "6                        6       24.845527\n"
     ]
    }
   ],
   "source": [
    "# Calculate average profit per transaction for each day of the week\n",
    "average_profit_per_transaction = df.groupby('transaction_day_of_week')['profit'].agg(['mean']).reset_index()\n",
    "average_profit_per_transaction.columns = ['transaction_day_of_week', 'average_profit']\n",
    "print(average_profit_per_transaction)\n"
   ]
  },
  {
   "cell_type": "code",
   "execution_count": 90,
   "metadata": {},
   "outputs": [
    {
     "name": "stderr",
     "output_type": "stream",
     "text": [
      "Setting `pad_token_id` to `eos_token_id`:2 for open-end generation.\n"
     ]
    },
    {
     "data": {
      "text/plain": [
       "\"Based on the given data, it appears that there is no significant difference in average profit between different days of the week. However, we do see slightly higher profits on Thursdays (an average profit of $25.33) compared to other weeks' averages ($24.8-25.3). Therefore, focusing marketing efforts or promotions specifically towards Thursday sales could potentially lead to increased revenues without requiring substantial changes to overall operations. This strategy may help attract more customers and boost sales during this day while maintaining consistent weekly performance levels across all seven days.\""
      ]
     },
     "execution_count": 90,
     "metadata": {},
     "output_type": "execute_result"
    }
   ],
   "source": [
    "generate_insight(average_profit_per_transaction.to_string())"
   ]
  },
  {
   "cell_type": "markdown",
   "metadata": {},
   "source": [
    "### Generated Insight\n",
    "\n",
    "Based on the given data, it appears that there is no significant difference in average profit between different days of the week. However, we do see slightly higher profits on Thursdays (an average profit of $25.33) compared to other weeks' averages ($24.8-25.3). Therefore, focusing marketing efforts or promotions specifically towards Thursday sales could potentially lead to increased revenues without requiring substantial changes to overall operations. This strategy may help attract more customers and boost sales during this day while maintaining consistent weekly performance levels across all seven days."
   ]
  },
  {
   "cell_type": "code",
   "execution_count": 98,
   "metadata": {},
   "outputs": [
    {
     "name": "stdout",
     "output_type": "stream",
     "text": [
      "   transaction_day_of_week  profit_mean\n",
      "5                        5    25.337725\n"
     ]
    }
   ],
   "source": [
    "# Calculate average profit per transaction for each day of the week\n",
    "average_profit_per_transaction = df.groupby('transaction_day_of_week')['profit'].mean().reset_index()\n",
    "average_profit_per_transaction.columns = ['transaction_day_of_week', 'profit_mean']\n",
    "max_average_profit_day = average_profit_per_transaction[average_profit_per_transaction['profit_mean'] == average_profit_per_transaction['profit_mean'].max()]\n",
    "print(max_average_profit_day)\n"
   ]
  },
  {
   "cell_type": "code",
   "execution_count": 103,
   "metadata": {},
   "outputs": [
    {
     "name": "stderr",
     "output_type": "stream",
     "text": [
      "Setting `pad_token_id` to `eos_token_id`:2 for open-end generation.\n"
     ]
    },
    {
     "data": {
      "text/plain": [
       "'Based on the given data, focusing on increasing sales during weekdays (specifically Thursday) could potentially lead to higher revenues as it has shown a relatively high average profit compared to other days in the reported time frame. Strategies such as promoting specific products or offering discounts and special deals exclusively for Thursdays can be considered to attract more customers and boost profits on that day. However, further analysis might be required before implementing any major changes to validate these findings accurately.'"
      ]
     },
     "execution_count": 103,
     "metadata": {},
     "output_type": "execute_result"
    }
   ],
   "source": [
    "generate_insight(max_average_profit_day.to_string(),'max mean among days')"
   ]
  },
  {
   "cell_type": "markdown",
   "metadata": {},
   "source": [
    "### Generated Insights\n",
    "\n",
    "Based on the given data, focusing on increasing sales during weekdays (specifically Thursday) could potentially lead to higher revenues as it has shown a relatively high average profit compared to other days in the reported time frame. Strategies such as promoting specific products or offering discounts and special deals exclusively for Thursdays can be considered to attract more customers and boost profits on that day. However, further analysis might be required before implementing any major changes to validate these findings accurately."
   ]
  },
  {
   "cell_type": "code",
   "execution_count": 107,
   "metadata": {},
   "outputs": [
    {
     "name": "stdout",
     "output_type": "stream",
     "text": [
      "   transaction_day_of_week  count_profit\n",
      "3                        3          5782\n",
      "5                        5          5768\n",
      "0                        0          5732\n",
      "2                        2          5721\n",
      "1                        1          5706\n",
      "4                        4          5646\n",
      "6                        6          5645\n"
     ]
    }
   ],
   "source": [
    "# Count the number of transactions per day of the week\n",
    "transactions_per_day = df.groupby('transaction_day_of_week')['profit'].count().reset_index().sort_values(by='profit',ascending=False)\n",
    "transactions_per_day.columns = ['transaction_day_of_week', 'count_profit']\n",
    "print(transactions_per_day)\n"
   ]
  },
  {
   "cell_type": "code",
   "execution_count": 108,
   "metadata": {},
   "outputs": [
    {
     "name": "stderr",
     "output_type": "stream",
     "text": [
      "Setting `pad_token_id` to `eos_token_id`:2 for open-end generation.\n"
     ]
    },
    {
     "data": {
      "text/plain": [
       "'Based on the given data, it seems that transactions occurring during certain days of the week (specifically Thursdays and Saturdays with five transactions each) generate relatively high profits. To potentially boost revenues, consider focusing marketing efforts or promotions towards those specific day(s). This could include offering special discounts, running targeted ads, or providing incentives for customers to shop on these profitable days. However, further analysis may be required to confirm this trend holds consistently over time before implementing any major changes in strategy.'"
      ]
     },
     "execution_count": 108,
     "metadata": {},
     "output_type": "execute_result"
    }
   ],
   "source": [
    "generate_insight(transactions_per_day.to_string())"
   ]
  },
  {
   "cell_type": "code",
   "execution_count": null,
   "metadata": {},
   "outputs": [],
   "source": []
  }
 ],
 "metadata": {
  "kernelspec": {
   "display_name": "genai-venv",
   "language": "python",
   "name": "python3"
  },
  "language_info": {
   "codemirror_mode": {
    "name": "ipython",
    "version": 3
   },
   "file_extension": ".py",
   "mimetype": "text/x-python",
   "name": "python",
   "nbconvert_exporter": "python",
   "pygments_lexer": "ipython3",
   "version": "3.9.13"
  }
 },
 "nbformat": 4,
 "nbformat_minor": 2
}
